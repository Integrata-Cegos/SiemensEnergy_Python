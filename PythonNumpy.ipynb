{
 "cells": [
  {
   "cell_type": "markdown",
   "metadata": {
    "collapsed": false
   },
   "source": [
    "# NumPy "
   ]
  },
  {
   "cell_type": "markdown",
   "metadata": {
    "collapsed": false
   },
   "source": [
    "NumPy (Numeric Python) is the basic library for scientific computing in Python. It provides powerful tools for **efficient handling of multi-dimensional arrays**, **linear algebra operations** and several **numerical functionalities** like Fourier-Transformation. Together with the libraries SciPy and <span style=\"color:red\">**Matplotlib**</span>, it builts a Matlab-alike environment.\n",
    "\n",
    "This script exemplifies the usage of NumPy by presenting some functionalities. It by far makes no claim to completeness. For a detailed documentation see https://docs.scipy.org/doc/numpy/reference/ or for a free online introduction https://www.python-course.eu/numpy.php ."
   ]
  },
  {
   "cell_type": "code",
   "execution_count": 3,
   "metadata": {
    "collapsed": false
   },
   "outputs": [
   ],
   "source": [
    "# import numpy library - it is usually shortened with \"np\"\n",
    "import numpy as np"
   ]
  },
  {
   "cell_type": "markdown",
   "metadata": {
    "collapsed": false
   },
   "source": [
    "---\n",
    "\n",
    "## 1. N-dimensional Arrays\n",
    "N-dimensional arrays are the backbone of NumPy. They are the blueprint for matrices. \n",
    "\n",
    "To use what we learned about **object-oriented programming**: Arrays are a class which can be used to create a matix object. Lets do that:"
   ]
  },
  {
   "cell_type": "code",
   "execution_count": 5,
   "metadata": {
    "collapsed": false
   },
   "outputs": [
    {
     "name": "stdout",
     "output_type": "stream",
     "text": [
      "[[8 5 7 2 1]\n",
      " [5 9 1 2 8]]\n"
     ]
    }
   ],
   "source": [
    "# create 2x5 Matrix ndarray\n",
    "import numpy as np\n",
    "Matrix = np.array([[8,5,7,2,1],[5,9,1,2,8]])\n",
    "print(Matrix)"
   ]
  },
  {
   "cell_type": "markdown",
   "metadata": {
    "collapsed": false
   },
   "source": [
    "An object of the array class is now saved in the \"Matrix\" variable. That means it comes with predefined attributes and methods.\n",
    "\n",
    "At the moment our array is holding the data type integer. Can we have floats instead?"
   ]
  },
  {
   "cell_type": "code",
   "execution_count": 0,
   "metadata": {
    "collapsed": false
   },
   "outputs": [
   ],
   "source": [
    "# create 2x5 Matrix ndarray with specified data-type\n",
    "Matrix = np.array([[8,5,7,2,1],[5,9,1,2,8]], float)\n",
    "print(Matrix)"
   ]
  },
  {
   "cell_type": "code",
   "execution_count": 0,
   "metadata": {
    "collapsed": false
   },
   "outputs": [
   ],
   "source": [
    "# You can the data type attribute of the object Matrix\n",
    "print(Matrix.dtype)"
   ]
  },
  {
   "cell_type": "code",
   "execution_count": 0,
   "metadata": {
    "collapsed": false
   },
   "outputs": [
   ],
   "source": [
    "# adress index (note: in Python and thus also in NumPy, counting indices starts at 0, not 1)\n",
    "print(Matrix[0,2])"
   ]
  },
  {
   "cell_type": "code",
   "execution_count": 0,
   "metadata": {
    "collapsed": false
   },
   "outputs": [
   ],
   "source": [
    "# change value of index\n",
    "Matrix[0,0] = 12\n",
    "print(Matrix)"
   ]
  },
  {
   "cell_type": "code",
   "execution_count": 0,
   "metadata": {
    "collapsed": false
   },
   "outputs": [
   ],
   "source": [
    "# adress a range of indices. E.g. the second to the fourth column of the second row\n",
    "print(Matrix[1,1:3])"
   ]
  },
  {
   "cell_type": "markdown",
   "metadata": {
    "collapsed": false
   },
   "source": [
    "### Exercise\n",
    "\n",
    "1. Create a 2x2 ndarray with values -1,2 in the first row and 7,8 in the second row and call it 'A'."
   ]
  },
  {
   "cell_type": "code",
   "execution_count": 0,
   "metadata": {
    "collapsed": false
   },
   "outputs": [
   ],
   "source": [
    "# place for your solution"
   ]
  },
  {
   "cell_type": "markdown",
   "metadata": {
    "collapsed": false
   },
   "source": [
    "2. Change the first value of A to 100."
   ]
  },
  {
   "cell_type": "code",
   "execution_count": 0,
   "metadata": {
    "collapsed": false
   },
   "outputs": [
   ],
   "source": [
    "# place for your solution"
   ]
  },
  {
   "cell_type": "markdown",
   "metadata": {
    "collapsed": false
   },
   "source": [
    "3. Create another array of your choice, called MyFirstArray of type 'int' and print it's type."
   ]
  },
  {
   "cell_type": "code",
   "execution_count": 0,
   "metadata": {
    "collapsed": false
   },
   "outputs": [
   ],
   "source": [
    "# place for your solution"
   ]
  },
  {
   "cell_type": "markdown",
   "metadata": {
    "collapsed": false
   },
   "source": [
    "4. Change the values of the first row of A  to 8,9 by adressing a range of indizes."
   ]
  },
  {
   "cell_type": "code",
   "execution_count": 0,
   "metadata": {
    "collapsed": false
   },
   "outputs": [
   ],
   "source": [
    "# place for your solution"
   ]
  },
  {
   "cell_type": "markdown",
   "metadata": {
    "collapsed": false
   },
   "source": [
    "## 2. First operations"
   ]
  },
  {
   "cell_type": "code",
   "execution_count": 6,
   "metadata": {
    "collapsed": false
   },
   "outputs": [
    {
     "name": "stdout",
     "output_type": "stream",
     "text": [
      "[[8 5 7 2 1]\n",
      " [5 9 1 2 8]]\n"
     ]
    }
   ],
   "source": [
    "# we continue with the variable Matrix from above\n",
    "print(Matrix)"
   ]
  },
  {
   "cell_type": "code",
   "execution_count": 7,
   "metadata": {
    "collapsed": false
   },
   "outputs": [
    {
     "name": "stdout",
     "output_type": "stream",
     "text": [
      "(2, 5)\n"
     ]
    }
   ],
   "source": [
    "# size of variable 'Matrix' is a 2x5 matrix\n",
    "print(Matrix.shape)"
   ]
  },
  {
   "cell_type": "code",
   "execution_count": 0,
   "metadata": {
    "collapsed": false
   },
   "outputs": [
   ],
   "source": [
    "# memory size of array\n",
    "Matrix.nbytes"
   ]
  },
  {
   "cell_type": "code",
   "execution_count": 0,
   "metadata": {
    "collapsed": false
   },
   "outputs": [
   ],
   "source": [
    "# total number of elements in Matrix\n",
    "Matrix.size"
   ]
  },
  {
   "cell_type": "code",
   "execution_count": 0,
   "metadata": {
    "collapsed": false
   },
   "outputs": [
   ],
   "source": [
    "# transpose Matrix\n",
    "Matrix = Matrix.T\n",
    "print(Matrix)"
   ]
  },
  {
   "cell_type": "code",
   "execution_count": 0,
   "metadata": {
    "collapsed": false
   },
   "outputs": [
   ],
   "source": [
    "# create range of numbers from 0-9\n",
    "Numbers = np.arange(10)\n",
    "print(Numbers)"
   ]
  },
  {
   "cell_type": "code",
   "execution_count": 0,
   "metadata": {
    "collapsed": false
   },
   "outputs": [
   ],
   "source": [
    "# reshape an array\n",
    "print(Numbers)\n",
    "Numbers = Numbers.reshape([5,2])\n",
    "print(Numbers)"
   ]
  },
  {
   "cell_type": "markdown",
   "metadata": {
    "collapsed": false
   },
   "source": [
    "Lets review **object-oriented programming**. We just used a Object - Method combination:\n",
    "\n",
    "Numbers was created from the class array. .reshape() is a methode which is predefined for this class. "
   ]
  },
  {
   "cell_type": "code",
   "execution_count": 0,
   "metadata": {
    "collapsed": false
   },
   "outputs": [
   ],
   "source": [
    "# calculate the maximum value of an array\n",
    "print(Numbers.max())"
   ]
  },
  {
   "cell_type": "code",
   "execution_count": 0,
   "metadata": {
    "collapsed": false
   },
   "outputs": [
   ],
   "source": [
    "# returns the position of the minimum based on a single order numbering\n",
    "Numbers.argmin()"
   ]
  },
  {
   "cell_type": "code",
   "execution_count": 0,
   "metadata": {
    "collapsed": false
   },
   "outputs": [
   ],
   "source": [
    "# calculate the index in the array of the maximum value in the array\n",
    "np.unravel_index(Numbers.argmax(),Numbers.shape)"
   ]
  },
  {
   "cell_type": "code",
   "execution_count": 0,
   "metadata": {
    "collapsed": false
   },
   "outputs": [
   ],
   "source": [
    "# calculate sum of all elements\n",
    "Numbers.sum()"
   ]
  },
  {
   "cell_type": "code",
   "execution_count": 0,
   "metadata": {
    "collapsed": false
   },
   "outputs": [
   ],
   "source": [
    "# calculate mean value over all elements\n",
    "Numbers.mean()"
   ]
  },
  {
   "cell_type": "code",
   "execution_count": 0,
   "metadata": {
    "collapsed": false
   },
   "outputs": [
   ],
   "source": [
    "# real and imaginary part of a complex number\n",
    "z = 3 +4j\n",
    "print(z.real)\n",
    "print(z.imag)"
   ]
  },
  {
   "cell_type": "markdown",
   "metadata": {
    "collapsed": false
   },
   "source": [
    "### Optional Exercise (if time...)\n",
    "\n",
    "1. Print the shape of A from Exercise 1."
   ]
  },
  {
   "cell_type": "code",
   "execution_count": 0,
   "metadata": {
    "collapsed": false
   },
   "outputs": [
   ],
   "source": [
    "# place for your solution"
   ]
  },
  {
   "cell_type": "markdown",
   "metadata": {
    "collapsed": false
   },
   "source": [
    "2. Change A to the size 4x1."
   ]
  },
  {
   "cell_type": "code",
   "execution_count": 0,
   "metadata": {
    "collapsed": false
   },
   "outputs": [
   ],
   "source": [
    "# place for your solution"
   ]
  },
  {
   "cell_type": "markdown",
   "metadata": {
    "collapsed": false
   },
   "source": [
    "3. Create an array with rising values from 0 to 3 with the arange function and name it B."
   ]
  },
  {
   "cell_type": "code",
   "execution_count": 0,
   "metadata": {
    "collapsed": false
   },
   "outputs": [
   ],
   "source": [
    "# place for your solution"
   ]
  },
  {
   "cell_type": "markdown",
   "metadata": {
    "collapsed": false
   },
   "source": [
    "4. Add B to A and name the result C."
   ]
  },
  {
   "cell_type": "code",
   "execution_count": 0,
   "metadata": {
    "collapsed": false
   },
   "outputs": [
   ],
   "source": [
    "# place for your solution"
   ]
  },
  {
   "cell_type": "markdown",
   "metadata": {
    "collapsed": false
   },
   "source": [
    "5. Print C - what do you notice about it's shape?"
   ]
  },
  {
   "cell_type": "code",
   "execution_count": 0,
   "metadata": {
    "collapsed": false
   },
   "outputs": [
   ],
   "source": [
    "# place for your solution"
   ]
  },
  {
   "cell_type": "markdown",
   "metadata": {
    "collapsed": false
   },
   "source": [
    "6. Calculate the sum and the mean of C."
   ]
  },
  {
   "cell_type": "code",
   "execution_count": 0,
   "metadata": {
    "collapsed": false
   },
   "outputs": [
   ],
   "source": [
    "# place for your solution"
   ]
  },
  {
   "cell_type": "markdown",
   "metadata": {
    "collapsed": false
   },
   "source": [
    "7. Print the maximum value of A as well as it's index."
   ]
  },
  {
   "cell_type": "code",
   "execution_count": 0,
   "metadata": {
    "collapsed": false
   },
   "outputs": [
   ],
   "source": [
    "# place for your solution"
   ]
  },
  {
   "cell_type": "markdown",
   "metadata": {
    "collapsed": false
   },
   "source": [
    "---\n",
    "\n",
    "# 3. Linear Algebra operations"
   ]
  },
  {
   "cell_type": "code",
   "execution_count": 0,
   "metadata": {
    "collapsed": false
   },
   "outputs": [
   ],
   "source": [
    "# create an array of ones\n",
    "OneMatrix = np.ones([5,5])\n",
    "print(OneMatrix)"
   ]
  },
  {
   "cell_type": "code",
   "execution_count": 0,
   "metadata": {
    "collapsed": false
   },
   "outputs": [
   ],
   "source": [
    "# create array of random values\n",
    "RandomMatrix = np.random.random([2,2])\n",
    "print(RandomMatrix)"
   ]
  },
  {
   "cell_type": "code",
   "execution_count": 0,
   "metadata": {
    "collapsed": false
   },
   "outputs": [
   ],
   "source": [
    "# create array of zeros\n",
    "ZeroMatrix = np.zeros([3,5])\n",
    "print(ZeroMatrix)"
   ]
  },
  {
   "cell_type": "code",
   "execution_count": 0,
   "metadata": {
    "collapsed": false
   },
   "outputs": [
   ],
   "source": [
    "# create identity matrix\n",
    "IdentityMatrix = np.eye(2)\n",
    "print(IdentityMatrix)"
   ]
  },
  {
   "cell_type": "code",
   "execution_count": 0,
   "metadata": {
    "collapsed": false
   },
   "outputs": [
   ],
   "source": [
    "# add matrices\n",
    "RandomMatrix+IdentityMatrix"
   ]
  },
  {
   "cell_type": "code",
   "execution_count": 0,
   "metadata": {
    "collapsed": false
   },
   "outputs": [
   ],
   "source": [
    "# multiply matrix with scalar\n",
    "2.*IdentityMatrix"
   ]
  },
  {
   "cell_type": "code",
   "execution_count": 0,
   "metadata": {
    "collapsed": false
   },
   "outputs": [
   ],
   "source": [
    "# multiply two matrices\n",
    "RandomMatrix*IdentityMatrix"
   ]
  },
  {
   "cell_type": "code",
   "execution_count": 0,
   "metadata": {
    "collapsed": false
   },
   "outputs": [
   ],
   "source": [
    "# multiply vector and matrix\n",
    "vector = np.arange(2)\n",
    "print(vector)\n",
    "np.dot(RandomMatrix,vector)                   # note: when providung two vector for np.dot, the inner product ist calculated. When providing a matrix and a vector, a matrix vector multiplication is performed"
   ]
  },
  {
   "cell_type": "code",
   "execution_count": 0,
   "metadata": {
    "collapsed": false
   },
   "outputs": [
   ],
   "source": [
    "# calculate the inverse of a matrix\n",
    "np.linalg.inv(RandomMatrix)"
   ]
  },
  {
   "cell_type": "code",
   "execution_count": 0,
   "metadata": {
    "collapsed": false
   },
   "outputs": [
   ],
   "source": [
    "# compute the eigenvalues of a matrix\n",
    "np.linalg.eigvals(RandomMatrix)"
   ]
  },
  {
   "cell_type": "code",
   "execution_count": 0,
   "metadata": {
    "collapsed": false
   },
   "outputs": [
   ],
   "source": [
    "# compute the determinant of a matrix\n",
    "np.linalg.det(RandomMatrix)"
   ]
  },
  {
   "cell_type": "code",
   "execution_count": 0,
   "metadata": {
    "collapsed": false
   },
   "outputs": [
   ],
   "source": [
    "# caluclate the inner product of two vectors\n",
    "np.dot(vector,vector)    # note: when providung two vector for np.dot, the inner product ist calculated. When providing a matrix and a vector, a matrix vector multiplication is performed"
   ]
  },
  {
   "cell_type": "code",
   "execution_count": 0,
   "metadata": {
    "collapsed": false
   },
   "outputs": [
   ],
   "source": [
    "np.cross(RandomMatrix,IdentityMatrix)"
   ]
  },
  {
   "cell_type": "markdown",
   "metadata": {
    "collapsed": false
   },
   "source": [
    "# Prepare for the following Pandas Training!\n",
    "\n",
    "Pandas is the \"Excel of Python\", tha backbone of any data analysis. This will be the topic of our DS2 class.\n",
    "\n",
    "A prerequisit to this  training is that you attend \"Data Manipulation with Pandas\" Free Chapter 1 \"Transforming Data\" https://learn.datacamp.com/courses/data-manipulation-with-pandas\n",
    "\n",
    "You will learn what a dataframes is, learn basic editing and how to get an quick overview on large dataframes. We will build on that."
   ]
  }
 ],
 "metadata": {
  "kernelspec": {
   "display_name": "Python 3 (Ubuntu Linux)",
   "language": "python",
   "name": "python3-ubuntu",
   "resource_dir": "/usr/local/share/jupyter/kernels/python3-ubuntu"
  },
  "language_info": {
   "codemirror_mode": {
    "name": "ipython",
    "version": 3
   },
   "file_extension": ".py",
   "mimetype": "text/x-python",
   "name": "python",
   "nbconvert_exporter": "python",
   "pygments_lexer": "ipython3",
   "version": "3.9.7"
  }
 },
 "nbformat": 4,
 "nbformat_minor": 4
}