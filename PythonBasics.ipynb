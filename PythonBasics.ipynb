{
 "cells": [
  {
   "cell_type": "markdown",
   "metadata": {
    "collapsed": false
   },
   "source": [
    "# Introduction to Python\n",
    "\n",
    "JupyterLab enables you to work with documents and activities such as Jupyter notebooks, text editors, terminals, and custom components in a flexible, integrated, and extensible manner. We will only focus on Jupyter notebooks, the file you are currently reading from right now.\n",
    "\n",
    "Jupyter Notebook was created to make it easier to show one’s programming work, and to let others join in. Jupyter Notebook allows you to combine code, comments, multimedia, and visualizations in an interactive document — called a notebook, naturally — that can be shared, re-used, and re-worked. \n",
    "And because Jupyter Notebook runs via a web browser, the notebook itself can be hosted on a remote server. \n",
    "\n",
    "In the Jupyter notebook texts can be written with **Markdown** and with **Code**.\n",
    "\n",
    "After a command line is executed (Shift + Enter), the command is executed immediately and, if necessary, the result is given. \n",
    "\n",
    "To the right of the input field you can see in square brackets if the code is still running [*]. When the calculation is completed, a number appears in square brackets (continuous numerating)."
   ]
  },
  {
   "cell_type": "code",
   "execution_count": 1,
   "metadata": {
    "collapsed": false
   },
   "outputs": [
    {
     "data": {
      "text/plain": [
       "25"
      ]
     },
     "execution_count": 1,
     "metadata": {
     },
     "output_type": "execute_result"
    }
   ],
   "source": [
    "5*5"
   ]
  },
  {
   "cell_type": "markdown",
   "metadata": {
    "collapsed": false
   },
   "source": [
    "**Some additional information before we start with Python itself:**\n",
    "\n",
    "- What happens behind the scenes: Kernels\n",
    "\n",
    "- There are two input Modes in Jupyter Notebooks: Edit mode and Command mode (see bottom right corner)\n",
    "\n",
    "- Memory usage: bottom left corner\n",
    "\n",
    "- Shutting down a session: bottom left corner\n",
    "\n",
    "- Overview of the interface: https://jupyterlab.readthedocs.io/en/stable/user/interface.html\n",
    "- Useful shortcuts: https://yoursdata.net/jupyter-lab-shortcut-and-magic-functions-tips/\n",
    "\n",
    "Note: Just like any other language, readability is important. Code is read much more often than it is written and therefore it is important to write in a consistent and comprehensive way. The common conventions are explained in: **PEP 8 -- Style Guide for Python Code**. https://www.python.org/dev/peps/pep-0008/ for more information."
   ]
  },
  {
   "cell_type": "code",
   "execution_count": 0,
   "metadata": {
    "collapsed": false
   },
   "outputs": [
   ],
   "source": [
   ]
  },
  {
   "cell_type": "code",
   "execution_count": 0,
   "metadata": {
    "collapsed": false
   },
   "outputs": [
   ],
   "source": [
   ]
  },
  {
   "cell_type": "markdown",
   "metadata": {
    "collapsed": false
   },
   "source": [
    "---\n",
    "# Lists\n",
    "\n",
    "In Python, besides variables, there are also various data structures, e.g. Lists, dictionaries and tuples\n",
    "\n",
    "Lists are one-dimensional objects. In lists different data types can be stored. For this, the objects are written in square brackets and separated with commas. Let's define a list with a string, a boolean, an integer, and a float."
   ]
  },
  {
   "cell_type": "code",
   "execution_count": 1,
   "metadata": {
    "collapsed": false
   },
   "outputs": [
    {
     "data": {
      "text/plain": [
       "['string', True, 1234, 1.2]"
      ]
     },
     "execution_count": 1,
     "metadata": {
     },
     "output_type": "execute_result"
    }
   ],
   "source": [
    "MyFirstList = ['string', True, 1234,\n",
    "               1.2]  #You can comment any specific line by using typing #\n",
    "MyFirstList  #If any defined object is written to the last line in Python, it will be displayed."
   ]
  },
  {
   "cell_type": "markdown",
   "metadata": {
    "collapsed": false
   },
   "source": [
    "In Python, a condition is often hung in square brackets behind an object. For example, if I want the 3rd object in the list, I write:"
   ]
  },
  {
   "cell_type": "code",
   "execution_count": 0,
   "metadata": {
    "collapsed": false
   },
   "outputs": [
   ],
   "source": [
    "MyFirstList[2] "
   ]
  },
  {
   "cell_type": "markdown",
   "metadata": {
    "collapsed": false
   },
   "source": [
    "Instead of a three, a two is used, because Python starts counting at zero! (0,1,2,3) <-> (1,2,3,4)\n",
    "\n",
    "It's important to remember what you are working with. Python has useful built-in functions for that. Some examples are `type()`, which returns the type of the object you are looking at and `len()`, which returns the length of the object you are looking at. \n",
    "\n",
    "The `print()` function prints the specified message to the screen. This is useful when you need to print more than just the last line in your piece of code, or when you want to comment on the output:"
   ]
  },
  {
   "cell_type": "markdown",
   "metadata": {
    "collapsed": false
   },
   "source": [
    "Functions from Python and other libraries have a built in 'manual'. This can be accessed by having the cursor inside the function's brackets and pressing `Shift+Tab` or by typing a questionmark behind the function:"
   ]
  },
  {
   "cell_type": "code",
   "execution_count": 0,
   "metadata": {
    "collapsed": false
   },
   "outputs": [
   ],
   "source": [
    "#len()\n",
    "len?"
   ]
  },
  {
   "cell_type": "markdown",
   "metadata": {
    "collapsed": false
   },
   "source": [
    "Let's try it out:"
   ]
  },
  {
   "cell_type": "code",
   "execution_count": 5,
   "metadata": {
    "collapsed": false
   },
   "outputs": [
    {
     "data": {
      "text/plain": [
       "list"
      ]
     },
     "execution_count": 5,
     "metadata": {
     },
     "output_type": "execute_result"
    }
   ],
   "source": [
    "len(MyFirstList)\n",
    "# print(len(MyFirstList))\n",
    "\n",
    "# print()\n",
    "\n",
    "# print('The type of our object called \"MyFirstList\" is:')\n",
    "type(MyFirstList)"
   ]
  },
  {
   "cell_type": "markdown",
   "metadata": {
    "collapsed": false
   },
   "source": [
    "It only shows me the type of my list but what about the length?\n",
    "\n",
    "To display multiple lines, use the `print()` function.\n",
    "\n",
    "---"
   ]
  },
  {
   "cell_type": "markdown",
   "metadata": {
    "collapsed": false
   },
   "source": [
    "It's also possible to look at the type of an item from the list:"
   ]
  },
  {
   "cell_type": "code",
   "execution_count": 0,
   "metadata": {
    "collapsed": false
   },
   "outputs": [
   ],
   "source": [
    "type(MyFirstList[1])"
   ]
  },
  {
   "cell_type": "markdown",
   "metadata": {
    "collapsed": false
   },
   "source": [
    "Next, if I only want to have a certain range of the list, I can use colons to specify it as follows: [a: b + 1]. This is called slicing. \n",
    "\n",
    "Here a is the first postition that should be in the list, and b is the last position that should be in the list.\n",
    "For example, we might only be interested in the numbers:"
   ]
  },
  {
   "cell_type": "code",
   "execution_count": 0,
   "metadata": {
    "collapsed": false
   },
   "outputs": [
   ],
   "source": [
    "MyNumbers = MyFirstList[2:4]\n",
    "MyNumbers"
   ]
  },
  {
   "cell_type": "markdown",
   "metadata": {
    "collapsed": false
   },
   "source": [
    "If a list is selected from the beginning or until the end, a or b + 1 can also be omitted:"
   ]
  },
  {
   "cell_type": "code",
   "execution_count": 0,
   "metadata": {
    "collapsed": false
   },
   "outputs": [
   ],
   "source": [
    "MyNumbers = MyFirstList[2:]\n",
    "MyNumbers"
   ]
  },
  {
   "cell_type": "markdown",
   "metadata": {
    "collapsed": false
   },
   "source": [
    "Lastly, to expand lists:"
   ]
  },
  {
   "cell_type": "code",
   "execution_count": 0,
   "metadata": {
    "collapsed": false
   },
   "outputs": [
   ],
   "source": [
    "MyNumbers.append(5)\n",
    "MyNumbers"
   ]
  },
  {
   "cell_type": "markdown",
   "metadata": {
    "collapsed": false
   },
   "source": [
    "Only one argument can be appended at a time.\n",
    "\n",
    "### Exercise\n",
    "\n",
    "1. Create a list with 5  numbers."
   ]
  },
  {
   "cell_type": "code",
   "execution_count": 0,
   "metadata": {
    "collapsed": false
   },
   "outputs": [
   ],
   "source": [
    "# place for your solution"
   ]
  },
  {
   "cell_type": "markdown",
   "metadata": {
    "collapsed": false
   },
   "source": [
    "2. Show the second item from the list."
   ]
  },
  {
   "cell_type": "code",
   "execution_count": 0,
   "metadata": {
    "collapsed": false
   },
   "outputs": [
   ],
   "source": [
    "# place for your solution"
   ]
  },
  {
   "cell_type": "markdown",
   "metadata": {
    "collapsed": false
   },
   "source": [
    "3. Create a new and shorter list by slicing the list from question 1."
   ]
  },
  {
   "cell_type": "code",
   "execution_count": 0,
   "metadata": {
    "collapsed": false
   },
   "outputs": [
   ],
   "source": [
    "# place for your solution"
   ]
  },
  {
   "cell_type": "markdown",
   "metadata": {
    "collapsed": false
   },
   "source": [
    "4. Add your favorite number to the shorter list from question 3 using the append method."
   ]
  },
  {
   "cell_type": "code",
   "execution_count": 0,
   "metadata": {
    "collapsed": false
   },
   "outputs": [
   ],
   "source": [
    "# place for your solution"
   ]
  },
  {
   "cell_type": "markdown",
   "metadata": {
    "collapsed": false
   },
   "source": [
    "---\n",
    "\n",
    "# Loops\n",
    "\n",
    "If we want to add a number to each argument, we can use **loops**.\n",
    "\n",
    "Note, that in Python you have to indent some environments (e.g. loops, if, definitions). Normally Python does this for you on its own. Also attention to the colon when opening an environment.\n",
    "\n",
    "For example the **For loop**:"
   ]
  },
  {
   "cell_type": "code",
   "execution_count": 0,
   "metadata": {
    "collapsed": false
   },
   "outputs": [
   ],
   "source": [
    "MyNumbersPlus7=[] # Define an empty list, to store our data in\n",
    "\n",
    "for arg in MyNumbers: # arg is a run variable for the entries in MyNumbers\n",
    "    MyNumbersPlus7.append(arg+7)\n",
    "    \n",
    "MyNumbersPlus7"
   ]
  },
  {
   "cell_type": "markdown",
   "metadata": {
    "collapsed": false
   },
   "source": [
    "To make sure what you think happens and what actually happens you can add a counter variable and print the run variable in the loop:"
   ]
  },
  {
   "cell_type": "code",
   "execution_count": 0,
   "metadata": {
    "collapsed": false
   },
   "outputs": [
   ],
   "source": [
    "MyNumbersPlus7=[]\n",
    "\n",
    "loop_counter = 0  #Counter\n",
    "\n",
    "for arg in MyNumbers: # arg is a run variable for the entries in MyNumbers\n",
    "    MyNumbersPlus7.append(arg+7)\n",
    "    print('Right now the run variable is:')\n",
    "    print(arg)\n",
    "    print()\n",
    "    loop_counter = loop_counter+1\n",
    "    \n",
    "print('Number of times the loop looped:')\n",
    "print(loop_counter)\n",
    "\n",
    "print('My new list now looks like:')\n",
    "MyNumbersPlus7"
   ]
  },
  {
   "cell_type": "markdown",
   "metadata": {
    "collapsed": false
   },
   "source": [
    "You can also use a **While loop**. This loop checks a certain condition. If the condition is satisfied, it will run through the loop once and then check the condition again. It will keep doing this as long as the condtion is satisfied."
   ]
  },
  {
   "cell_type": "code",
   "execution_count": 0,
   "metadata": {
    "collapsed": false
   },
   "outputs": [
   ],
   "source": [
    "i=0\n",
    "\n",
    "while i != len(MyNumbers): # != corresponds to 'is not'; == corresponds to 'equal'; you can also use >, >=, <, <=\n",
    "    MyNumbers[i] = MyNumbers[i] + 7\n",
    "    i += 1\n",
    "    \n",
    "MyNumbers"
   ]
  },
  {
   "cell_type": "markdown",
   "metadata": {
    "collapsed": false
   },
   "source": [
    "**Note:** Here I changed my original list called MyNumbers!"
   ]
  },
  {
   "cell_type": "markdown",
   "metadata": {
    "collapsed": false
   },
   "source": [
    "### Exercise"
   ]
  },
  {
   "cell_type": "markdown",
   "metadata": {
    "collapsed": false
   },
   "source": [
    "1. Using a for loop, create a new list where every item is twice as big as the items in your list from the previous exercise."
   ]
  },
  {
   "cell_type": "code",
   "execution_count": 0,
   "metadata": {
    "collapsed": false
   },
   "outputs": [
   ],
   "source": [
    "# place for your solution"
   ]
  },
  {
   "cell_type": "markdown",
   "metadata": {
    "collapsed": false
   },
   "source": [
    "---\n",
    "\n",
    "# Dictionaries\n",
    "\n",
    "Another data structure are dictionaries. Curly brackets are used instead of square brackets. In a dictionary, each argument (e.g. a string or a number) is assigned another argument (e.g. a string, a number, or a dataframe). The assignment is made with a colon. The assignments are separated by commas."
   ]
  },
  {
   "cell_type": "code",
   "execution_count": 0,
   "metadata": {
    "collapsed": false
   },
   "outputs": [
   ],
   "source": [
    "PhoneBook = {'Anton A.': '017612345678','Berta B.': '017398765432','Cäsar C.' : '017910102929','Emil E.' : '017584392134'}\n",
    "PhoneBook"
   ]
  },
  {
   "cell_type": "code",
   "execution_count": 0,
   "metadata": {
    "collapsed": false
   },
   "outputs": [
   ],
   "source": [
    "ExampleDict = {'key1':2, 2:5, 'abc':'some_string', 4:PhoneBook}\n",
    "ExampleDict"
   ]
  },
  {
   "cell_type": "markdown",
   "metadata": {
    "collapsed": false
   },
   "source": [
    "Access to the arguments in a dictionary, unlike lists, via the keys."
   ]
  },
  {
   "cell_type": "code",
   "execution_count": 0,
   "metadata": {
    "collapsed": false
   },
   "outputs": [
   ],
   "source": [
    "print(ExampleDict['key1'])\n",
    "print(ExampleDict[4])"
   ]
  },
  {
   "cell_type": "markdown",
   "metadata": {
    "collapsed": false
   },
   "source": [
    "In this context, the **for loops** are particularly interesting, because so all the keys can be gone through."
   ]
  },
  {
   "cell_type": "code",
   "execution_count": 0,
   "metadata": {
    "collapsed": false
   },
   "outputs": [
   ],
   "source": [
    "MyWardrobe={'Shirts':10, 'Pants':2, 'Shoes': 2} # Define a new Dictionary\n",
    "\n",
    "for key in MyWardrobe:\n",
    "    MyWardrobe[key] += 2\n",
    "    \n",
    "MyWardrobe"
   ]
  },
  {
   "cell_type": "markdown",
   "metadata": {
    "collapsed": false
   },
   "source": [
    "---\n",
    "\n",
    "# If environment\n",
    "\n",
    "With an If environment, i.a. if-then instructions are implemented. The else statement is not mandatory. You can connect conditions with 'and' or 'or'. You can also check multiple expressions with elif. If the condition for the if is False, it checks the condition for the next elif."
   ]
  },
  {
   "cell_type": "code",
   "execution_count": 0,
   "metadata": {
    "collapsed": false
   },
   "outputs": [
   ],
   "source": [
    "if 'Berta B.' in PhoneBook:\n",
    "    print('Bertas number is in PhoneBook.')\n",
    "else:\n",
    "    print('Bertas number is not in PhoneBook.')"
   ]
  },
  {
   "cell_type": "code",
   "execution_count": 0,
   "metadata": {
    "collapsed": false
   },
   "outputs": [
   ],
   "source": [
    "if (ExampleDict['key1'] > 0) and (ExampleDict['key1'] < 5):\n",
    "    print('Key1 is greater than 0 and less than 5.')"
   ]
  },
  {
   "cell_type": "code",
   "execution_count": 0,
   "metadata": {
    "collapsed": false
   },
   "outputs": [
   ],
   "source": [
    "if MyWardrobe['Shirts'] < 12:\n",
    "    print('I need new Shirts and maybe new pants and/or shoes.')\n",
    "elif MyWardrobe['Pants'] < 5:\n",
    "    print('I dont need new shirts, but I need new pants and maybe new shoes.')\n",
    "elif MyWardrobe['Shoes'] < 2:\n",
    "    print('I dont need new shirts or pants, but I need new shoes.')\n",
    "else:\n",
    "    print('I have enough clothes.')"
   ]
  },
  {
   "cell_type": "markdown",
   "metadata": {
    "collapsed": false
   },
   "source": [
    "### Exercise\n",
    "\n",
    "1. Check if Dora D. is in PhoneBook."
   ]
  },
  {
   "cell_type": "code",
   "execution_count": 0,
   "metadata": {
    "collapsed": false
   },
   "outputs": [
   ],
   "source": [
    "# place for your solution"
   ]
  },
  {
   "cell_type": "markdown",
   "metadata": {
    "collapsed": false
   },
   "source": [
    "2. Write another if statement for MyWardrobe."
   ]
  },
  {
   "cell_type": "code",
   "execution_count": 0,
   "metadata": {
    "collapsed": false
   },
   "outputs": [
   ],
   "source": [
    "# place for your solution"
   ]
  },
  {
   "cell_type": "markdown",
   "metadata": {
    "collapsed": false
   },
   "source": [
    "---\n",
    "\n",
    "# Defining a Function\n",
    "\n",
    "An important feature in Python is the creation of definitions. Scripts can become chaotic and very long. For this reason functions are very useful for structuring the code. Thus, a definition of a part of the script can be outsourced and does not have to be copied again and again. Therefore they are reusable. Definitions calculate output values from input values. \n",
    "\n",
    "Input -> Definition -> Output\n",
    "\n",
    "For example, the conversion from Herzt to rounds per minute can be defined and then used throughout the notebook:"
   ]
  },
  {
   "cell_type": "code",
   "execution_count": 0,
   "metadata": {
    "collapsed": false
   },
   "outputs": [
   ],
   "source": [
    "def Hz_in_RPM(Hz): # Hz - Input\n",
    "    return(Hz*60) # RPM - Output"
   ]
  },
  {
   "cell_type": "code",
   "execution_count": 0,
   "metadata": {
    "collapsed": false
   },
   "outputs": [
   ],
   "source": [
    "Hz_in_RPM(49.999)"
   ]
  },
  {
   "cell_type": "markdown",
   "metadata": {
    "collapsed": false
   },
   "source": [
    "### Exercise\n",
    "1. Please define a definition, which builds the sum of two integer values. The function should be called **sum()**."
   ]
  },
  {
   "cell_type": "code",
   "execution_count": 0,
   "metadata": {
    "collapsed": false
   },
   "outputs": [
   ],
   "source": [
    "# place for your solution"
   ]
  },
  {
   "cell_type": "markdown",
   "metadata": {
    "collapsed": false
   },
   "source": [
    "2. Please test the function for the values: a=2,b=3 and a=-2,b=0."
   ]
  },
  {
   "cell_type": "code",
   "execution_count": 0,
   "metadata": {
    "collapsed": false
   },
   "outputs": [
   ],
   "source": [
    "# place for your solution"
   ]
  },
  {
   "cell_type": "markdown",
   "metadata": {
    "collapsed": false
   },
   "source": [
    "3. Please define a definition, which builds the faculty of one integer value. The function should be named **fac()**. A possible output for the input value 4 is 24 (4 * 3 * 2 * 1).\n",
    "   \n",
    "   Hint: Take a Look at Loops. "
   ]
  },
  {
   "cell_type": "code",
   "execution_count": 0,
   "metadata": {
    "collapsed": false
   },
   "outputs": [
   ],
   "source": [
    "# place for your solution"
   ]
  },
  {
   "cell_type": "markdown",
   "metadata": {
    "collapsed": false
   },
   "source": [
    "4. Please test it with a=4."
   ]
  },
  {
   "cell_type": "code",
   "execution_count": 0,
   "metadata": {
    "collapsed": false
   },
   "outputs": [
   ],
   "source": [
    "# place for your solution"
   ]
  },
  {
   "attachments": {
    "adce1cae-42f6-496d-a026-d02a3ec1554b.PNG": {
     "image/PNG": "[encoded data removed]"
    }
   },
   "cell_type": "markdown",
   "metadata": {
    "collapsed": false
   },
   "source": [
    "---\n",
    "\n",
    "# Object-Oriented Programming\n",
    "\n",
    "One of Python's programming paradigms is object orientation. For those who learned languages years back that are not object-oriented (Basic, Pascal) it might be a bit harder to get use to it. Here is what you need to know:\n",
    "\n",
    "Programming is centered around objects, every object is\n",
    "created based on a construction plan. This blueprintof the object is called a class. A class\n",
    "defines which attributes (color, width, height, ...) and which methods a objects has.\n",
    "\n",
    "For example, if you define a car as a class, you first have to define the various attributes in which the cars will later differ.\n",
    "You can also define different methods for the class that can later be executed by the objects in a similar way as functions.\n",
    "\n",
    "We will point out later in  the course examples for classes, objects and methods.\n",
    "\n",
    "![OOP§.PNG](attachment:adce1cae-42f6-496d-a026-d02a3ec1554b.PNG)\n"
   ]
  },
  {
   "cell_type": "markdown",
   "metadata": {
    "collapsed": false
   },
   "source": [
    "# Prepare for the following Pandas Training!\n",
    "\n",
    "Pandas is the \"Excel of Python\", the backbone of any data analysis. This will be the topic of our DS2 class.\n",
    "\n",
    "A prerequisit to this  training is that you attend \"Data Manipulation with Pandas\" Free Chapter 1 \"Transforming Data\" https://learn.datacamp.com/courses/data-manipulation-with-pandas\n",
    "\n",
    "You will learn what a dataframes is, learn basic editing and how to get an quick overview on large dataframes. We will build on that."
   ]
  },
  {
   "cell_type": "markdown",
   "metadata": {
    "collapsed": false
   },
   "source": [
    "# Additional Information\n",
    "\n",
    "For further information we recommend: https://www.datacamp.com/ (some free content, for license please contact Bjoern Beckmann) and https://www.dataquest.io/ (lots of free content)"
   ]
  },
  {
   "cell_type": "code",
   "execution_count": 0,
   "metadata": {
    "collapsed": false
   },
   "outputs": [
   ],
   "source": [
   ]
  }
 ],
 "metadata": {
  "kernelspec": {
   "display_name": "Python 3 (Ubuntu Linux)",
   "language": "python",
   "name": "python3-ubuntu",
   "resource_dir": "/usr/local/share/jupyter/kernels/python3-ubuntu"
  },
  "language_info": {
   "codemirror_mode": {
    "name": "ipython",
    "version": 3
   },
   "file_extension": ".py",
   "mimetype": "text/x-python",
   "name": "python",
   "nbconvert_exporter": "python",
   "pygments_lexer": "ipython3",
   "version": "3.8.10"
  }
 },
 "nbformat": 4,
 "nbformat_minor": 4
}